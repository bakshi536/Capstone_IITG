{
  "nbformat": 4,
  "nbformat_minor": 0,
  "metadata": {
    "colab": {
      "provenance": [],
      "authorship_tag": "ABX9TyPfiiaFYxIcPBTGCjZnMsWZ",
      "include_colab_link": true
    },
    "kernelspec": {
      "name": "python3",
      "display_name": "Python 3"
    },
    "language_info": {
      "name": "python"
    }
  },
  "cells": [
    {
      "cell_type": "markdown",
      "metadata": {
        "id": "view-in-github",
        "colab_type": "text"
      },
      "source": [
        "<a href=\"https://colab.research.google.com/github/bakshi536/Capstone_IITG/blob/main/Final_Tavgun_Capstone.ipynb\" target=\"_parent\"><img src=\"https://colab.research.google.com/assets/colab-badge.svg\" alt=\"Open In Colab\"/></a>"
      ]
    },
    {
      "cell_type": "code",
      "execution_count": null,
      "metadata": {
        "id": "bJXO_-CtC0pz"
      },
      "outputs": [],
      "source": [
        "from google.colab import files\n",
        "uploaded = files.upload()"
      ]
    },
    {
      "cell_type": "code",
      "source": [
        "import pandas as pd\n",
        "import numpy as np\n",
        "import seaborn as sns\n",
        "import matplotlib.pyplot as plt\n",
        "from datetime import datetime"
      ],
      "metadata": {
        "id": "dw2552Ej2vZw"
      },
      "execution_count": null,
      "outputs": []
    },
    {
      "cell_type": "code",
      "source": [
        "df = pd.read_csv(\"dataset.csv\")\n",
        "df.head()"
      ],
      "metadata": {
        "id": "rOlxJsbQ2yc7"
      },
      "execution_count": null,
      "outputs": []
    },
    {
      "cell_type": "code",
      "source": [
        "df.drop([\"ID\"],axis=1,inplace=True)"
      ],
      "metadata": {
        "id": "EekKtNQd2zg7"
      },
      "execution_count": null,
      "outputs": []
    },
    {
      "cell_type": "code",
      "source": [
        "df.info()"
      ],
      "metadata": {
        "id": "gJgQnf3q23Om"
      },
      "execution_count": null,
      "outputs": []
    },
    {
      "cell_type": "markdown",
      "source": [
        "#Combine Date and Time into Timestamp"
      ],
      "metadata": {
        "id": "dNCPdvI729ek"
      }
    },
    {
      "cell_type": "code",
      "source": [
        "df['Timestamp'] = pd.to_datetime(df['LastUpdatedDate'] + ' ' + df['LastUpdatedTime'], format='%d-%m-%Y %H:%M:%S')"
      ],
      "metadata": {
        "id": "0aHy1Lsh267P"
      },
      "execution_count": null,
      "outputs": []
    },
    {
      "cell_type": "markdown",
      "source": [
        "# Handle Categorical Data (Convert to Numbers)"
      ],
      "metadata": {
        "id": "GM0EWrp62_IK"
      }
    },
    {
      "cell_type": "code",
      "source": [
        "print(df['VehicleType'].value_counts())"
      ],
      "metadata": {
        "id": "zDatLxDY263G"
      },
      "execution_count": null,
      "outputs": []
    },
    {
      "cell_type": "code",
      "source": [
        "print(df['TrafficConditionNearby'].value_counts())"
      ],
      "metadata": {
        "id": "om5ECFxF261L"
      },
      "execution_count": null,
      "outputs": []
    },
    {
      "cell_type": "code",
      "source": [
        "traffic_map = {'low': 0, 'average': 1, 'high': 2}\n",
        "df['TrafficLevel'] = df['TrafficConditionNearby'].str.lower().map(traffic_map)\n",
        "\n",
        "vehicle_map = {'cycle':0.2 , 'bike': 0.5, 'car': 1.0, 'truck': 1.5}\n",
        "df['VehicleWeight'] = df['VehicleType'].str.lower().map(vehicle_map)"
      ],
      "metadata": {
        "id": "PeiGuT9B26zO"
      },
      "execution_count": null,
      "outputs": []
    },
    {
      "cell_type": "markdown",
      "source": [
        "#Feature Engineering"
      ],
      "metadata": {
        "id": "SKBhnZIb3jt_"
      }
    },
    {
      "cell_type": "code",
      "source": [
        "df['OccupancyRate'] = df['Occupancy'] / df['Capacity']\n",
        "df['IsSpike'] = ((df['QueueLength'] > 2) & (df['OccupancyRate'] > 0.9)).astype(int)\n",
        "df['Hour'] = df['Timestamp'].dt.hour\n",
        "df['Weekday'] = df['Timestamp'].dt.dayofweek\n",
        "df.sort_values(by='Timestamp', inplace=True)\n",
        "df.rename(columns={\n",
        "    'SystemCodeNumber': 'LotID'\n",
        "}, inplace=True)"
      ],
      "metadata": {
        "id": "yqdQiIi826xR"
      },
      "execution_count": null,
      "outputs": []
    },
    {
      "cell_type": "code",
      "source": [
        "print(df['LotID'].value_counts())"
      ],
      "metadata": {
        "id": "av-QGkkH26vV"
      },
      "execution_count": null,
      "outputs": []
    },
    {
      "cell_type": "code",
      "source": [
        "df.head()"
      ],
      "metadata": {
        "id": "reKi_0q426sw"
      },
      "execution_count": null,
      "outputs": []
    },
    {
      "cell_type": "markdown",
      "source": [
        "#EDA"
      ],
      "metadata": {
        "id": "sQvT3whh3yDF"
      }
    },
    {
      "cell_type": "code",
      "source": [
        "sns.histplot(df['OccupancyRate'], kde=True)\n",
        "plt.title(\"Occupancy Rate Distribution\")\n",
        "plt.show()"
      ],
      "metadata": {
        "id": "YAs8_LfU26oy"
      },
      "execution_count": null,
      "outputs": []
    },
    {
      "cell_type": "code",
      "source": [
        "sns.lineplot(data=df, x='Hour', y='OccupancyRate')\n",
        "plt.title(\"Occupancy Rate by Hour\")\n",
        "plt.show()"
      ],
      "metadata": {
        "id": "iliSNJat26m3"
      },
      "execution_count": null,
      "outputs": []
    },
    {
      "cell_type": "code",
      "source": [
        "sns.boxplot(data=df, x='IsSpecialDay', y='OccupancyRate')\n",
        "plt.title(\"Occupancy Rate on Special vs Normal Days\")\n",
        "plt.show()"
      ],
      "metadata": {
        "id": "ZWjieUQu26ih"
      },
      "execution_count": null,
      "outputs": []
    },
    {
      "cell_type": "code",
      "source": [
        "corr = df[['OccupancyRate', 'QueueLength', 'TrafficLevel', 'VehicleWeight', 'IsSpecialDay','Hour']].corr()\n",
        "sns.heatmap(corr, annot=True, cmap=\"coolwarm\")\n",
        "plt.title(\"Feature Correlation Heatmap\")\n",
        "plt.show()"
      ],
      "metadata": {
        "id": "dmHKUmLO26gN"
      },
      "execution_count": null,
      "outputs": []
    },
    {
      "cell_type": "markdown",
      "source": [
        "#MODEL 1: BASELINE PRICING MODEL"
      ],
      "metadata": {
        "id": "M_kzI0nn361g"
      }
    },
    {
      "cell_type": "code",
      "source": [
        "import pandas as pd\n",
        "import numpy as np\n",
        "\n",
        "# Constants\n",
        "BASE_PRICE = 10\n",
        "ALPHA = 5\n",
        "\n",
        "# Convert and clean timestamp\n",
        "df[\"Timestamp\"] = df[\"Timestamp\"].astype(str).str.replace(r\"\\+00:00\", \"\", regex=True)\n",
        "df[\"Timestamp\"] = pd.to_datetime(df[\"Timestamp\"])\n",
        "df[\"Timestamp\"] = df[\"Timestamp\"].dt.tz_localize(None)\n",
        "df[\"Day\"] = df[\"Timestamp\"].dt.date\n",
        "\n",
        "# Sort by LotID and Timestamp\n",
        "df = df.sort_values([\"LotID\", \"Timestamp\"]).reset_index(drop=True)\n",
        "\n",
        "# Initialize baseline price column\n",
        "df[\"BaselinePrice\"] = BASE_PRICE\n",
        "\n",
        "# Calculate baseline prices\n",
        "for i in range(1, len(df)):\n",
        "    same_lot = df.loc[i, 'LotID'] == df.loc[i - 1, 'LotID']\n",
        "    same_day = df.loc[i, 'Day'] == df.loc[i - 1, 'Day']\n",
        "\n",
        "    if same_lot and same_day:\n",
        "        prev_price = df.loc[i - 1, 'BaselinePrice']\n",
        "    else:\n",
        "        prev_price = BASE_PRICE\n",
        "\n",
        "    occ_rate = df.loc[i, 'OccupancyRate']\n",
        "    df.loc[i, 'BaselinePrice'] = prev_price + ALPHA * occ_rate\n",
        "\n",
        "\n",
        "# Export final results\n",
        "df = df.sort_values([\"LotID\", \"Timestamp\"])\n",
        "\n",
        "df[\"Timestamp\"] = df[\"Timestamp\"].astype(str).str.strip()  # <- remove trailing space\n",
        "df[\"Timestamp\"] = pd.to_datetime(df[\"Timestamp\"])\n",
        "df[\"Timestamp\"] = df[\"Timestamp\"].dt.strftime(\"%Y-%m-%d %H:%M:%S\")\n",
        "df.to_csv(\"prepriced.csv\", index=False)\n"
      ],
      "metadata": {
        "id": "54UFuOQ938bP"
      },
      "execution_count": null,
      "outputs": []
    },
    {
      "cell_type": "code",
      "source": [
        "sample_day = df['Day'].iloc[0]  # or any specific day\n",
        "df_day = df[df['Day'] == sample_day]\n",
        "\n",
        "sns.lineplot(data=df_day, x=\"Timestamp\", y=\"BaselinePrice\", hue=\"LotID\")\n",
        "plt.title(f\"Baseline Price on {sample_day}\")\n",
        "plt.xticks(rotation=45)\n",
        "plt.show()\n"
      ],
      "metadata": {
        "id": "LXYzhBziUyKy"
      },
      "execution_count": null,
      "outputs": []
    },
    {
      "cell_type": "code",
      "source": [
        "sns.scatterplot(data=df, x=\"OccupancyRate\", y=\"BaselinePrice\", hue=\"LotID\")\n",
        "plt.title(\"Occupancy Rate vs. Baseline Price\")\n",
        "plt.show()"
      ],
      "metadata": {
        "id": "uIgjJ2fOQHN4"
      },
      "execution_count": null,
      "outputs": []
    },
    {
      "cell_type": "markdown",
      "source": [
        "# Model 2"
      ],
      "metadata": {
        "id": "_MN8H8rD4vZR"
      }
    },
    {
      "cell_type": "code",
      "source": [
        "# Re-import necessary packages after code execution environment reset\n",
        "import pandas as pd\n",
        "import numpy as np\n",
        "import matplotlib.pyplot as plt\n",
        "import seaborn as sns\n",
        "\n",
        "df['NormOccupancy'] = df['OccupancyRate']\n",
        "df['NormQueue'] = df['QueueLength'] / df['QueueLength'].max()\n",
        "df['NormTraffic'] = df['TrafficLevel'] / df['TrafficLevel'].max()\n",
        "df['NormVehicle'] = df['VehicleWeight'] / df['VehicleWeight'].max()\n",
        "\n",
        "# Setup base price\n",
        "BASE_PRICE = 10\n",
        "\n",
        "# Step 2: Grid search for best coefficients and lambda\n",
        "a_vals = [1.0, 1.5, 2.0]\n",
        "b_vals = [0.5, 1.0]\n",
        "c_vals = [0.5, 1.0]\n",
        "d_vals = [0.5, 1.0]\n",
        "e_vals = [0.5, 1.0]\n",
        "lambda_vals = np.linspace(0.1, 2.0, 20)\n",
        "\n",
        "results = []\n",
        "\n",
        "for a in a_vals:\n",
        "    for b in b_vals:\n",
        "        for c in c_vals:\n",
        "            for d in d_vals:\n",
        "                for e in e_vals:\n",
        "                    df['Demand'] = (\n",
        "                        a * df['NormOccupancy'] +\n",
        "                        b * df['NormQueue'] -\n",
        "                        c * df['NormTraffic'] +\n",
        "                        d * df['IsSpecialDay'] +\n",
        "                        e * df['NormVehicle']\n",
        "                    )\n",
        "                    df['NormDemand'] = (df['Demand'] - df['Demand'].min()) / (df['Demand'].max() - df['Demand'].min())\n",
        "\n",
        "                    for lambda_ in lambda_vals:\n",
        "                        df['DemandPrice'] = BASE_PRICE * (1 + lambda_ * df['NormDemand'])\n",
        "                        df['DemandPrice'] = df['DemandPrice'].clip(lower=BASE_PRICE * 0.5, upper=BASE_PRICE * 2)\n",
        "\n",
        "                        smoothness = df.groupby('LotID')['DemandPrice'].apply(lambda x: np.mean(np.abs(np.diff(x))))\n",
        "                        avg_smoothness = smoothness.mean()\n",
        "                        price_range = df['DemandPrice'].max() - df['DemandPrice'].min()\n",
        "\n",
        "                        results.append({\n",
        "                            'a': a, 'b': b, 'c': c, 'd': d, 'e': e,\n",
        "                            'lambda': lambda_,\n",
        "                            'smoothness': avg_smoothness,\n",
        "                            'price_range': price_range\n",
        "                        })\n",
        "\n",
        "# Convert to DataFrame\n",
        "results_df = pd.DataFrame(results)\n",
        "\n",
        "# plot\n",
        "lambda_plot_df = results_df.groupby('lambda').agg({\n",
        "    'price_range': 'mean',\n",
        "    'smoothness': 'mean'\n",
        "}).reset_index()\n",
        "\n",
        "plt.figure(figsize=(12, 5))\n",
        "\n",
        "# 1. Price Range vs Lambda\n",
        "plt.subplot(1, 2, 1)\n",
        "plt.plot(lambda_plot_df['lambda'], lambda_plot_df['price_range'], marker='o')\n",
        "plt.title(\"Price Range vs Lambda\")\n",
        "plt.xlabel(\"Lambda\")\n",
        "plt.ylabel(\"Price Range ($)\")\n",
        "plt.grid(True)\n",
        "\n",
        "# 2. Smoothness vs Lambda\n",
        "plt.subplot(1, 2, 2)\n",
        "plt.plot(lambda_plot_df['lambda'], lambda_plot_df['smoothness'], marker='o', color='green')\n",
        "plt.title(\"Smoothness vs Lambda\")\n",
        "plt.xlabel(\"Lambda\")\n",
        "plt.ylabel(\"Average Price Change\")\n",
        "plt.grid(True)\n",
        "\n",
        "plt.tight_layout()\n",
        "plt.show()\n",
        "\n",
        "\n",
        "# Full range (strict)\n",
        "strict_filtered = results_df[results_df['price_range'] == 10]\n",
        "\n",
        "# Near-full range (flexible)\n",
        "flex_filtered = results_df[results_df['price_range'] >= 9]\n",
        "\n",
        "# Get smoothest model among full-range configs\n",
        "best_strict = strict_filtered.sort_values(by='smoothness').iloc[0]\n",
        "\n",
        "# Get smoothest model among near-full-range configs\n",
        "best_flex = flex_filtered.sort_values(by='smoothness').iloc[0]\n",
        "\n",
        "comparison_df = pd.DataFrame([best_strict, best_flex], index=['Strict (==10)', 'Flexible (>=9)'])\n",
        "print(comparison_df[['a', 'b', 'c', 'd', 'e', 'lambda', 'smoothness', 'price_range']])\n",
        "\n",
        "\n",
        "# Step 4: Recalculate DemandPrice with best values\n",
        "a, b, c, d, e, lambda_ = best_strict[['a', 'b', 'c', 'd', 'e', 'lambda']]\n",
        "\n",
        "df['Demand'] = (\n",
        "    a * df['NormOccupancy'] +\n",
        "    b * df['NormQueue'] -\n",
        "    c * df['NormTraffic'] +\n",
        "    d * df['IsSpecialDay'] +\n",
        "    e * df['NormVehicle']\n",
        ")\n",
        "df['NormDemand'] = (df['Demand'] - df['Demand'].min()) / (df['Demand'].max() - df['Demand'].min())\n",
        "df['DemandPrice'] = BASE_PRICE * (1 + lambda_ * df['NormDemand'])\n",
        "df['DemandPrice'] = np.clip(df['DemandPrice'], BASE_PRICE * 0.5, BASE_PRICE * 2)\n",
        "\n",
        "best_strict\n",
        "df[['Timestamp', 'LotID', 'NormOccupancy', 'NormDemand', 'DemandPrice']].head()\n",
        "\n",
        "df_export = df[[\n",
        "    'Timestamp', 'LotID', 'NormOccupancy', 'NormQueue',\n",
        "    'NormTraffic', 'IsSpecialDay', 'NormVehicle', 'DemandPrice'\n",
        "]]\n",
        "\n",
        "# Clean timestamp formatting\n",
        "df_export['Timestamp'] = pd.to_datetime(df_export['Timestamp'], errors='coerce')\n",
        "df_export = df_export.dropna(subset=['Timestamp'])\n",
        "df_export['Timestamp'] = df_export['Timestamp'].dt.strftime(\"%Y-%m-%d %H:%M:%S\")\n",
        "\n",
        "# Save\n",
        "df_export.to_csv(\"prepriced_model2.csv\", index=False)\n",
        "\n",
        "demand_min = df['Demand'].min()\n",
        "demand_max = df['Demand'].max()\n",
        "\n",
        "print(demand_min, demand_max)\n"
      ],
      "metadata": {
        "id": "0mkwvC144vRA"
      },
      "execution_count": null,
      "outputs": []
    },
    {
      "cell_type": "code",
      "source": [
        "import seaborn as sns\n",
        "import matplotlib.pyplot as plt\n",
        "\n",
        "plt.figure(figsize=(8, 5))\n",
        "sns.scatterplot(x='OccupancyRate', y='DemandPrice', data=df, alpha=0.5)\n",
        "plt.title('Price vs Occupancy Rate')\n",
        "plt.xlabel('Occupancy Rate')\n",
        "plt.ylabel('Demand-Based Price ($)')\n",
        "plt.grid(True)\n",
        "plt.show()"
      ],
      "metadata": {
        "id": "OWfyDQLL4vOB"
      },
      "execution_count": null,
      "outputs": []
    },
    {
      "cell_type": "code",
      "source": [
        "df['IsSpecialDay'] = df['IsSpecialDay'].astype(int)\n",
        "\n",
        "plt.figure(figsize=(10, 6))\n",
        "sns.scatterplot(\n",
        "    data=df,\n",
        "    x='OccupancyRate',\n",
        "    y='DemandPrice',\n",
        "    hue='IsSpecialDay',\n",
        "    palette='Set2',\n",
        "    alpha=0.5\n",
        ")\n",
        "\n",
        "plt.title(\"Price vs Occupancy Rate (Color-coded by Special Day)\")\n",
        "plt.xlabel(\"Occupancy Rate\")\n",
        "plt.ylabel(\"Demand-Based Price ($)\")\n",
        "plt.legend(title=\"Special Day (0 = No, 1 = Yes)\")\n",
        "plt.grid(True)\n",
        "plt.tight_layout()\n",
        "plt.show()\n"
      ],
      "metadata": {
        "id": "nDyCsR0D4vKc"
      },
      "execution_count": null,
      "outputs": []
    },
    {
      "cell_type": "code",
      "source": [
        "import seaborn as sns\n",
        "import matplotlib.pyplot as plt\n",
        "\n",
        "plt.figure(figsize=(10, 5))\n",
        "sns.scatterplot(x=df['NormDemand'], y=df['DemandPrice'], alpha=0.5)\n",
        "plt.title(\"Price vs Normalized Demand\")\n",
        "plt.xlabel(\"Normalized Demand\")\n",
        "plt.ylabel(\"Demand-Based Price ($)\")\n",
        "plt.grid(True)\n",
        "plt.show()\n"
      ],
      "metadata": {
        "id": "dfbnva4G4vGV"
      },
      "execution_count": null,
      "outputs": []
    },
    {
      "cell_type": "code",
      "source": [
        "sample_lots = df['LotID'].dropna().unique()[:4]\n",
        "df['Timestamp'] = pd.to_datetime(df['Timestamp'])\n",
        "\n",
        "fig, axs = plt.subplots(len(sample_lots), 1, figsize=(12, 14), sharex=True)\n",
        "\n",
        "for i, lot in enumerate(sample_lots):\n",
        "    lot_df = df[df['LotID'] == lot].sort_values(by='Timestamp')\n",
        "\n",
        "    axs[i].plot(lot_df['Timestamp'], lot_df['OccupancyRate'], label='Norm Occupancy', color='blue', linestyle='--')\n",
        "    axs[i].plot(lot_df['Timestamp'], lot_df['NormDemand'], label='Norm Demand', color='orange', linestyle='-.')\n",
        "    axs[i].plot(lot_df['Timestamp'], lot_df['DemandPrice'], label='Price ($)', color='green', linewidth=2)\n",
        "\n",
        "    axs[i].set_title(f\"Lot: {lot}\")\n",
        "    axs[i].set_ylabel(\"Value\")\n",
        "    axs[i].legend(loc='upper right')\n",
        "\n",
        "plt.xlabel(\"Timestamp\")\n",
        "plt.show()"
      ],
      "metadata": {
        "id": "l8RYQ8aC4vCd"
      },
      "execution_count": null,
      "outputs": []
    },
    {
      "cell_type": "code",
      "source": [
        "plt.figure(figsize=(6, 4))\n",
        "sns.histplot(df['NormDemand'], kde=True)\n",
        "plt.title('Distribution of Normalized Demand')\n",
        "plt.show()\n"
      ],
      "metadata": {
        "id": "bbLNiEPq4u-p"
      },
      "execution_count": null,
      "outputs": []
    },
    {
      "cell_type": "markdown",
      "source": [
        "# comparing both models"
      ],
      "metadata": {
        "id": "MdzmgTxj4_1S"
      }
    },
    {
      "cell_type": "code",
      "source": [
        "sample_lot = df['LotID'].dropna().unique()[0]\n",
        "lot_df = df[df['LotID'] == sample_lot].sort_values(by='Timestamp')\n",
        "\n",
        "plt.figure(figsize=(12, 6))\n",
        "plt.plot(lot_df['Timestamp'], lot_df['BaselinePrice'], label='Model 1: Baseline Price', linestyle='--', color='red')\n",
        "plt.plot(lot_df['Timestamp'], lot_df['DemandPrice'], label='Model 2: Demand-Based Price', linewidth=2, color='green')\n",
        "plt.title(f\"Price Over Time: Model 1 vs Model 2 – Lot {sample_lot}\")\n",
        "plt.xlabel(\"Timestamp\")\n",
        "plt.ylabel(\"Price ($)\")\n",
        "plt.legend()\n",
        "plt.grid(True)\n",
        "plt.tight_layout()\n",
        "plt.show()"
      ],
      "metadata": {
        "id": "KBPkkBjU4u8P"
      },
      "execution_count": null,
      "outputs": []
    },
    {
      "cell_type": "code",
      "source": [
        "df['PriceChange_M1'] = df['BaselinePrice'].diff().abs()\n",
        "df['PriceChange_M2'] = df['DemandPrice'].diff().abs()\n",
        "\n",
        "print(\"Volatility Comparison:\")\n",
        "print(\"Model 1:\", df['PriceChange_M1'].mean())\n",
        "print(\"Model 2:\", df['PriceChange_M2'].mean())"
      ],
      "metadata": {
        "id": "ebdI7c9T49kv"
      },
      "execution_count": null,
      "outputs": []
    },
    {
      "cell_type": "markdown",
      "source": [
        "# pathway"
      ],
      "metadata": {
        "id": "zmK2VMiC5Fjq"
      }
    },
    {
      "cell_type": "code",
      "source": [
        "!pip install pathway --quiet"
      ],
      "metadata": {
        "id": "3xEixx-Z5JSY"
      },
      "execution_count": null,
      "outputs": []
    },
    {
      "cell_type": "code",
      "source": [
        "!pip install bokeh --quiet\n",
        "!pip install panel --quiet"
      ],
      "metadata": {
        "id": "6pVy4iSb5NIr"
      },
      "execution_count": null,
      "outputs": []
    },
    {
      "cell_type": "markdown",
      "source": [
        "model 1"
      ],
      "metadata": {
        "id": "jJPlyqQT5HNg"
      }
    },
    {
      "cell_type": "code",
      "source": [
        "import pathway as pw\n",
        "import os\n",
        "\n",
        "# Step 1: Schema\n",
        "class PriceSchema(pw.Schema):\n",
        "    Timestamp: str\n",
        "    LotID: str\n",
        "    OccupancyRate: float\n",
        "    BaselinePrice: float\n",
        "\n",
        "# Step 2: Replay CSV stream\n",
        "data = pw.demo.replay_csv(\"prepriced.csv\", schema=PriceSchema, input_rate=200)\n",
        "\n",
        "# Step 3: Parse timestamp\n",
        "data = data.with_columns(\n",
        "    t = pw.this.Timestamp.dt.strptime(\"%Y-%m-%d %H:%M:%S\")  # Do not change\n",
        ")\n",
        "\n",
        "# Step 4: Select output\n",
        "result = data.select(\n",
        "    t = pw.this.t,\n",
        "    LotID = pw.this.LotID,\n",
        "    BaselinePrice = pw.this.BaselinePrice\n",
        ")\n",
        "\n",
        "# Step 5: Output to file\n",
        "os.makedirs(\"output\", exist_ok=True)\n",
        "pw.io.jsonlines.write(result, \"output/streamed_baseline.jsonl\")\n",
        "\n",
        "# Step 6: Run\n",
        "pw.run()\n"
      ],
      "metadata": {
        "id": "z_BTv5B949h2"
      },
      "execution_count": null,
      "outputs": []
    },
    {
      "cell_type": "code",
      "source": [
        "import pandas as pd\n",
        "import panel as pn\n",
        "import time\n",
        "from bokeh.plotting import figure\n",
        "from bokeh.models import ColumnDataSource\n",
        "from threading import Thread\n",
        "from bokeh.palettes import Category20_20  # 20 distinct colors\n",
        "\n",
        "# Enable Panel for interactive plotting in Colab\n",
        "pn.extension('tabulator', sizing_mode=\"stretch_width\")\n",
        "\n",
        "# Load initial data to extract LotIDs\n",
        "df_init = pd.read_json(\"output/streamed_baseline.jsonl\", lines=True)\n",
        "lot_ids = sorted(df_init[\"LotID\"].unique())\n",
        "\n",
        "# Create a ColumnDataSource for each LotID\n",
        "sources = {lot: ColumnDataSource(data=dict(t=[], price=[])) for lot in lot_ids}\n",
        "\n",
        "# Assign distinct colors (use Category20 or extend if more)\n",
        "palette = Category20_20 * ((len(lot_ids) // 20) + 1)  # Extend color palette if more than 20\n",
        "colors = {lot: palette[i] for i, lot in enumerate(lot_ids)}\n",
        "\n",
        "# Create one plot per lot with unique color\n",
        "plots = []\n",
        "for lot in lot_ids:\n",
        "    p = figure(\n",
        "        title=f\"Real-Time Baseline Price: Lot {lot}\",\n",
        "        x_axis_type=\"datetime\",\n",
        "        height=250,\n",
        "        width=600\n",
        "    )\n",
        "    p.line(x='t', y='price', source=sources[lot], line_width=2, color=colors[lot])\n",
        "    p.circle(\n",
        "    x='t', y='price',\n",
        "    source=sources[lot],\n",
        "    size=5,\n",
        "    fill_color=None,    # No fill color\n",
        "    fill_alpha=0.5,     # Fully transparent\n",
        "    line_color=None     # No outline\n",
        ")\n",
        "    plots.append(pn.Card(p, title=f\"Lot {lot}\", collapsible=True))\n",
        "\n",
        "# Panel layout to display all\n",
        "layout = pn.Column(*plots, scroll=True)\n",
        "\n",
        "# Background thread to stream updates\n",
        "def update_stream():\n",
        "    seen = set()\n",
        "    while True:\n",
        "        try:\n",
        "            df = pd.read_json(\"output/streamed_baseline.jsonl\", lines=True)\n",
        "            df[\"t\"] = pd.to_datetime(df[\"t\"], errors=\"coerce\")\n",
        "            df = df.dropna(subset=[\"t\"])\n",
        "            new_rows = df[~df[\"t\"].astype(str).isin(seen)]\n",
        "\n",
        "            if not new_rows.empty:\n",
        "                for lot in lot_ids:\n",
        "                    df_lot = new_rows[new_rows[\"LotID\"] == lot]\n",
        "                    if not df_lot.empty:\n",
        "                        sources[lot].stream({\n",
        "                            't': df_lot[\"t\"],\n",
        "                            'price': df_lot[\"BaselinePrice\"]\n",
        "                        }, rollover=300)\n",
        "                seen.update(new_rows[\"t\"].astype(str))\n",
        "        except Exception as e:\n",
        "            print(\"Stream error:\", e)\n",
        "        time.sleep(1)\n",
        "\n",
        "# Start background thread\n",
        "Thread(target=update_stream, daemon=True).start()\n",
        "\n",
        "# Show in Colab or Jupyter\n",
        "layout.servable()\n"
      ],
      "metadata": {
        "id": "H42GrhLs49d1"
      },
      "execution_count": null,
      "outputs": []
    },
    {
      "cell_type": "markdown",
      "source": [
        "# model 2"
      ],
      "metadata": {
        "id": "MBLVHn335XBu"
      }
    },
    {
      "cell_type": "code",
      "source": [
        "import pathway as pw\n",
        "\n",
        "class PrepricedModel2Schema(pw.Schema):\n",
        "    Timestamp: str\n",
        "    LotID: str\n",
        "    NormOccupancy: float\n",
        "    NormQueue: float\n",
        "    NormTraffic: float\n",
        "    IsSpecialDay: int\n",
        "    NormVehicle: float\n",
        "    DemandPrice: float"
      ],
      "metadata": {
        "id": "KmzaLEiE49bL"
      },
      "execution_count": null,
      "outputs": []
    },
    {
      "cell_type": "code",
      "source": [
        "data = pw.demo.replay_csv(\"prepriced_model2.csv\", schema=PrepricedModel2Schema, input_rate=1000)"
      ],
      "metadata": {
        "id": "4pUjTTqw5Wt4"
      },
      "execution_count": null,
      "outputs": []
    },
    {
      "cell_type": "code",
      "source": [
        "# Define the datetime format to parse the 'Timestamp' column\n",
        "fmt = \"%Y-%m-%d %H:%M:%S\"\n",
        "\n",
        "# Add new columns to the data stream:\n",
        "# - 't' contains the parsed full datetime\n",
        "# - 'day' extracts the date part and resets the time to midnight (useful for day-level aggregations)\n",
        "data_with_time = data.with_columns(\n",
        "    t = data.Timestamp.dt.strptime(fmt),\n",
        "    day = data.Timestamp.dt.strptime(fmt).dt.strftime(\"%Y-%m-%dT00:00:00\"),\n",
        "    hours = data.Timestamp.dt.strptime(fmt).dt.hour()\n",
        ")"
      ],
      "metadata": {
        "id": "yTj6vXOb5WrQ"
      },
      "execution_count": null,
      "outputs": []
    },
    {
      "cell_type": "code",
      "source": [
        "import pathway as pw\n",
        "import numpy as np\n",
        "import datetime\n",
        "\n",
        "# Constants from your best model\n",
        "a, b, c, d, e = 2.0, 1.0, 0.5, 1.0 , 0.5  # Example values\n",
        "BASE_PRICE = 10\n",
        "lambda_ = 1  # Example best lambda\n",
        "\n",
        "reduced = (\n",
        "    data_with_time.windowby(\n",
        "        pw.this.t,\n",
        "        window=pw.temporal.tumbling(datetime.timedelta(hours=1)),\n",
        "        behavior=pw.temporal.exactly_once_behavior()\n",
        "    )\n",
        "    .reduce(\n",
        "        t = pw.this._pw_window_end,\n",
        "        occ_sum = pw.reducers.sum(pw.this.NormOccupancy),\n",
        "        queue_sum = pw.reducers.sum(pw.this.NormQueue),\n",
        "        traffic_sum = pw.reducers.sum(pw.this.NormTraffic),\n",
        "        vehicle_sum = pw.reducers.sum(pw.this.NormVehicle),\n",
        "        special_any = pw.reducers.max(pw.this.IsSpecialDay),\n",
        "        lot = pw.reducers.min(pw.this.LotID),\n",
        "        n = pw.reducers.count()\n",
        "    )\n",
        "    .with_columns(\n",
        "        occ_avg = pw.this.occ_sum / pw.this.n,\n",
        "        queue_avg = pw.this.queue_sum / pw.this.n,\n",
        "        traffic_avg = pw.this.traffic_sum / pw.this.n,\n",
        "        vehicle_avg = pw.this.vehicle_sum / pw.this.n\n",
        "    )\n",
        ")\n",
        "\n",
        "\n",
        "# Apply model directly with demand and price calculation\n",
        "final = reduced.with_columns(\n",
        "    demand=(\n",
        "        a * pw.this.occ_avg +\n",
        "        b * pw.this.queue_avg -\n",
        "        c * pw.this.traffic_avg +\n",
        "        d * pw.this.special_any +\n",
        "        e * pw.this.vehicle_avg\n",
        "    )\n",
        ")\n",
        "\n",
        "# Use a fixed min/max to normalize (e.g., from prior analysis)\n",
        "demand_min = 0.0\n",
        "demand_max = 4.0\n",
        "\n",
        "# Step 1: Compute norm_demand\n",
        "final = final.with_columns(\n",
        "    norm_demand=(pw.this.demand - demand_min) / (demand_max - demand_min + 1e-8)\n",
        ")\n",
        "\n",
        "# Step 2: Compute DemandPriceLive using norm_demand\n",
        "final = final.with_columns(\n",
        "    DemandPriceLive=pw.apply(\n",
        "        lambda norm_d: np.clip(BASE_PRICE * (1 + lambda_ * norm_d), BASE_PRICE * 0.5, BASE_PRICE * 2),\n",
        "        pw.this.norm_demand\n",
        "    )\n",
        ")\n",
        "\n",
        "\n",
        "# Output\n",
        "final_output = final.select(\n",
        "    t=pw.this.t,\n",
        "    LotID=pw.this.lot,\n",
        "    DemandPriceLive=pw.this.DemandPriceLive\n",
        ")\n",
        "\n",
        "pw.io.jsonlines.write(\n",
        "    final_output,\n",
        "    \"output/prepriced_model2.jsonl\"\n",
        ")\n",
        "\n",
        "pw.run()"
      ],
      "metadata": {
        "id": "xLMU5FrANlhx"
      },
      "execution_count": null,
      "outputs": []
    },
    {
      "cell_type": "code",
      "source": [
        "import pandas as pd\n",
        "import panel as pn\n",
        "import time\n",
        "from bokeh.plotting import figure\n",
        "from bokeh.models import ColumnDataSource\n",
        "from threading import Thread\n",
        "from bokeh.palettes import Category20_20  # 20 distinct colors\n",
        "\n",
        "# Enable Panel for interactive plotting in Colab\n",
        "pn.extension('tabulator', sizing_mode=\"stretch_width\")\n",
        "\n",
        "# Load initial data to extract LotIDs\n",
        "df_init = pd.read_json(\"output/prepriced_model2.jsonl\", lines=True)\n",
        "lot_ids = sorted(df_init[\"LotID\"].unique())\n",
        "\n",
        "# Create a ColumnDataSource for each LotID\n",
        "sources = {lot: ColumnDataSource(data=dict(t=[], price=[])) for lot in lot_ids}\n",
        "\n",
        "# Assign distinct colors (use Category20 or extend if more)\n",
        "palette = Category20_20 * ((len(lot_ids) // 20) + 1)  # Extend color palette if more than 20\n",
        "colors = {lot: palette[i] for i, lot in enumerate(lot_ids)}\n",
        "\n",
        "# Create one plot per lot with unique color\n",
        "plots = []\n",
        "for lot in lot_ids:\n",
        "    p = figure(\n",
        "        title=f\"Real-Time Baseline Price: Lot {lot}\",\n",
        "        x_axis_type=\"datetime\",\n",
        "        height=250,\n",
        "        width=600\n",
        "    )\n",
        "    p.line(x='t', y='price', source=sources[lot], line_width=2, color=colors[lot])\n",
        "    p.circle(\n",
        "    x='t', y='price',\n",
        "    source=sources[lot],\n",
        "    size=5,\n",
        "    fill_color=None,    # No fill color\n",
        "    fill_alpha=0.5,     # Fully transparent\n",
        "    line_color=None     # No outline\n",
        ")\n",
        "    plots.append(pn.Card(p, title=f\"Lot {lot}\", collapsible=True))\n",
        "\n",
        "# Panel layout to display all\n",
        "layout = pn.Column(*plots, scroll=True)\n",
        "\n",
        "# Background thread to stream updates\n",
        "def update_stream():\n",
        "    seen = set()\n",
        "    while True:\n",
        "        try:\n",
        "            df = pd.read_json(\"output/prepriced_model2.jsonl\", lines=True)\n",
        "            df[\"t\"] = pd.to_datetime(df[\"t\"], errors=\"coerce\")\n",
        "            df = df.dropna(subset=[\"t\"])\n",
        "            new_rows = df[~df[\"t\"].astype(str).isin(seen)]\n",
        "\n",
        "            if not new_rows.empty:\n",
        "                for lot in lot_ids:\n",
        "                    df_lot = new_rows[new_rows[\"LotID\"] == lot]\n",
        "                    if not df_lot.empty:\n",
        "                        sources[lot].stream({\n",
        "                            't': df_lot[\"t\"],\n",
        "                            'price': df_lot[\"DemandPriceLive\"]\n",
        "                        }, rollover=300)\n",
        "                seen.update(new_rows[\"t\"].astype(str))\n",
        "        except Exception as e:\n",
        "            print(\"Stream error:\", e)\n",
        "        time.sleep(1)\n",
        "\n",
        "# Start background thread\n",
        "Thread(target=update_stream, daemon=True).start()\n",
        "\n",
        "# Show in Colab or Jupyter\n",
        "layout.servable()\n"
      ],
      "metadata": {
        "id": "H6F3PjL75hBQ"
      },
      "execution_count": null,
      "outputs": []
    }
  ]
}